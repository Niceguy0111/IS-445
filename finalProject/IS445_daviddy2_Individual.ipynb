{
 "cells": [
  {
   "cell_type": "markdown",
   "metadata": {},
   "source": [
    "# IS 445 - Final Project\n",
    "# INDIVIDUAL\n",
    "\n",
    "Some background. I have recently taken a machine learning class and there were many aspects of the course which required visualizations to function. Therefore, I utilized the same dataset repository they used for their homework demonstrations in this project. I also have nightmares cleaning data from poorly maintained CSV files from STAT 107, and the datasets on the UC Irvine Repo are well manicured and proven to function."
   ]
  },
  {
   "cell_type": "markdown",
   "metadata": {},
   "source": []
  }
 ],
 "metadata": {
  "language_info": {
   "name": "python"
  }
 },
 "nbformat": 4,
 "nbformat_minor": 2
}
